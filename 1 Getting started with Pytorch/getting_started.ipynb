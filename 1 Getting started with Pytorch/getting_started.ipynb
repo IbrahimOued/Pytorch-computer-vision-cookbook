{
 "cells": [
  {
   "cell_type": "markdown",
   "metadata": {},
   "source": [
    "# Getting started with Pytorch for Deep learning"
   ]
  },
  {
   "cell_type": "markdown",
   "metadata": {},
   "source": [
    "## **Introduction**"
   ]
  },
  {
   "cell_type": "markdown",
   "metadata": {},
   "source": [
    "There has been significant progress in computer vision because of deep learning in recent years. This helped to improve the performance of various tasks such as image recognition, object detection, image segmentation, and image generation. Deep learning frameworks and libraries have played a major role in this process. PyTorch, as a deep learning library, has emerged since 2016 and gained great attention among deep learning practitioners due to its flexibility and ease of use. \n",
    "\n",
    "There are several frameworks that practitioners use to build deep learning algorithms. In this book, we will use the latest version of PyTorch 1.0 to develop and train various deep learning models. PyTorch is a deep learning framework developed by Facebook's artificial intelligence research group. It provides flexibility and ease of use at the same. If you are familiar with other deep learning frameworks, you will find PyTorch very enjoyable.\n",
    "\n",
    "In this chapter, we will provide a review of deep learning concepts and their implementation using PyTorch 1.0. We will cover the following recipes:\n",
    "\n",
    "* Installing software tools and packages \n",
    "* Working with PyTorch tensors\n",
    "* Loading and processing data\n",
    "* Building models\n",
    "* Defining the loss function and optimizer\n",
    "* Training and evaluation\n",
    "\n",
    "Developing deep learning algorithms is comprised of two steps: training and deployment. In the training step, we use training data to train a model or network. In the deployment step, we deploy the trained model to predict the target values for new inputs.\n",
    "\n",
    "To train deep learning algorithms, the following ingredients are required:\n",
    "\n",
    "* Training data (inputs and targets) \n",
    "* The model (also called the network) \n",
    "* The loss function (also called the objective function or criterion)\n",
    "* The optimizer\n",
    "You can see the interaction between these elements in the following diagram:\n",
    "\n",
    "![Alt text](elements_interaction.png)\n",
    "\n",
    "The training process for deep learning algorithms is an iterative process. In each iteration, we select a batch of training data. Then, we feed the data to the model to get the model output. After that, we calculate the loss value. Next, we compute the gradients of the loss function with respect to the model parameters (also known as the weights). Finally, the optimizer updates the parameters based on the gradients. This loop continues. We also use a validation dataset to track the model's performance during training. We stop the training process when the performance plateaus."
   ]
  },
  {
   "cell_type": "markdown",
   "metadata": {},
   "source": [
    "## **Verifying the installation**"
   ]
  },
  {
   "cell_type": "code",
   "execution_count": 26,
   "metadata": {},
   "outputs": [
    {
     "data": {
      "text/plain": [
       "'1.11.0'"
      ]
     },
     "execution_count": 26,
     "metadata": {},
     "output_type": "execute_result"
    }
   ],
   "source": [
    "import torch\n",
    "torch.__version__"
   ]
  },
  {
   "cell_type": "code",
   "execution_count": 27,
   "metadata": {},
   "outputs": [
    {
     "data": {
      "text/plain": [
       "'0.12.0'"
      ]
     },
     "execution_count": 27,
     "metadata": {},
     "output_type": "execute_result"
    }
   ],
   "source": [
    "import torchvision\n",
    "torchvision.__version__"
   ]
  },
  {
   "cell_type": "code",
   "execution_count": 28,
   "metadata": {},
   "outputs": [
    {
     "data": {
      "text/plain": [
       "True"
      ]
     },
     "execution_count": 28,
     "metadata": {},
     "output_type": "execute_result"
    }
   ],
   "source": [
    "torch.cuda.is_available()"
   ]
  },
  {
   "cell_type": "code",
   "execution_count": 29,
   "metadata": {},
   "outputs": [
    {
     "data": {
      "text/plain": [
       "1"
      ]
     },
     "execution_count": 29,
     "metadata": {},
     "output_type": "execute_result"
    }
   ],
   "source": [
    "torch.cuda.device_count()"
   ]
  },
  {
   "cell_type": "code",
   "execution_count": 30,
   "metadata": {},
   "outputs": [
    {
     "data": {
      "text/plain": [
       "0"
      ]
     },
     "execution_count": 30,
     "metadata": {},
     "output_type": "execute_result"
    }
   ],
   "source": [
    "torch.cuda.current_device()"
   ]
  },
  {
   "cell_type": "code",
   "execution_count": 31,
   "metadata": {},
   "outputs": [
    {
     "data": {
      "text/plain": [
       "'NVIDIA GeForce GTX 1050'"
      ]
     },
     "execution_count": 31,
     "metadata": {},
     "output_type": "execute_result"
    }
   ],
   "source": [
    "torch.cuda.get_device_name(0)"
   ]
  },
  {
   "cell_type": "markdown",
   "metadata": {},
   "source": [
    "## **Working with Pytorch tensors**"
   ]
  },
  {
   "cell_type": "markdown",
   "metadata": {},
   "source": [
    "PyTorch is built on tensors. A PyTorch tensor is an $n$-dimensional array, similar to NumPy arrays.\n",
    "\n",
    "If you are familiar with NumPy, you will see a similarity in the syntax when working with tensors, as shown in the following table:\n",
    "\n",
    "| Numpy Arrays          | Pytorch tensors           | Description                       |\n",
    "| --------------------- | ------------------------- | --------------------------------- |\n",
    "| `numpy.ones()`        | `torch.ones()`            | Create an array of ones           |\n",
    "| `numpy.zeros()`       | `torch.zeros()`           | Create an arry of zeros           |\n",
    "| `numpy.random.rand()` | `torch.rand()`            | Create a random array             |\n",
    "| `numpy.array()`       | `torch.tensor()`          | Create an array from given values |\n",
    "| `x.shape`             | `x.shape()` or `x.size()` | Get an array shape                |\n"
   ]
  },
  {
   "cell_type": "markdown",
   "metadata": {},
   "source": [
    "### **How to do it**"
   ]
  },
  {
   "cell_type": "markdown",
   "metadata": {},
   "source": [
    "#### **Defining the tensor data type**"
   ]
  },
  {
   "cell_type": "markdown",
   "metadata": {},
   "source": [
    "The default tensor data type is `torch.float32`. This is the most used data type for tensor operations. Let's take a look:"
   ]
  },
  {
   "cell_type": "code",
   "execution_count": 32,
   "metadata": {},
   "outputs": [
    {
     "name": "stdout",
     "output_type": "stream",
     "text": [
      "tensor([[1., 1.],\n",
      "        [1., 1.]])\n",
      "torch.float32\n"
     ]
    }
   ],
   "source": [
    "# 1 Define a tensor with a default data type:\n",
    "x = torch.ones(2, 2)\n",
    "print(x)\n",
    "print(x.dtype)"
   ]
  },
  {
   "cell_type": "code",
   "execution_count": 33,
   "metadata": {},
   "outputs": [
    {
     "name": "stdout",
     "output_type": "stream",
     "text": [
      "tensor([[1, 1, 1],\n",
      "        [1, 1, 1]], dtype=torch.int8)\n",
      "torch.int8\n"
     ]
    }
   ],
   "source": [
    "# 2 Specify the data type when defining a tensor:\n",
    "# Define a tensor with specific data type\n",
    "x = torch.ones(2, 3, dtype=torch.int8)\n",
    "print(x)\n",
    "print(x.dtype)"
   ]
  },
  {
   "cell_type": "markdown",
   "metadata": {},
   "source": [
    "#### **Changing the tensor's data type**"
   ]
  },
  {
   "cell_type": "markdown",
   "metadata": {},
   "source": [
    "We can change a tensor's data type using the `.type` method:"
   ]
  },
  {
   "cell_type": "code",
   "execution_count": 34,
   "metadata": {},
   "outputs": [
    {
     "name": "stdout",
     "output_type": "stream",
     "text": [
      "tensor([1], dtype=torch.uint8)\n"
     ]
    }
   ],
   "source": [
    "# 1 Define a tensor with the torch.uint8 type\n",
    "x = torch.ones(1, dtype=torch.uint8)\n",
    "print(x)"
   ]
  },
  {
   "cell_type": "code",
   "execution_count": 35,
   "metadata": {},
   "outputs": [
    {
     "name": "stdout",
     "output_type": "stream",
     "text": [
      "torch.float32\n"
     ]
    }
   ],
   "source": [
    "# 2 Change the tensor data type\n",
    "x = x.type(torch.float)\n",
    "print(x.dtype)"
   ]
  },
  {
   "cell_type": "markdown",
   "metadata": {},
   "source": [
    "#### **Converting tensors into numpy arrays** "
   ]
  },
  {
   "cell_type": "markdown",
   "metadata": {},
   "source": [
    "We can easily convert PyTorch tensors into numpy arrays. Let's take a look"
   ]
  },
  {
   "cell_type": "code",
   "execution_count": 36,
   "metadata": {},
   "outputs": [
    {
     "name": "stdout",
     "output_type": "stream",
     "text": [
      "tensor([[0.5754, 0.1283, 0.7912],\n",
      "        [0.3042, 0.6715, 0.5209]])\n",
      "torch.float32\n"
     ]
    }
   ],
   "source": [
    "# 1 Define a tensor\n",
    "x = torch.rand(2, 3)\n",
    "print(x)\n",
    "print(x.dtype)"
   ]
  },
  {
   "cell_type": "code",
   "execution_count": 37,
   "metadata": {},
   "outputs": [
    {
     "name": "stdout",
     "output_type": "stream",
     "text": [
      "[[0.575415   0.12833732 0.7912468 ]\n",
      " [0.30416185 0.67146844 0.52087986]]\n",
      "float32\n"
     ]
    }
   ],
   "source": [
    "# 2 Convert the tensor inot a numpy array\n",
    "y = x.numpy()\n",
    "print(y)\n",
    "print(y.dtype)"
   ]
  },
  {
   "cell_type": "markdown",
   "metadata": {},
   "source": [
    "#### **Converting numpy arrays into tensors**"
   ]
  },
  {
   "cell_type": "markdown",
   "metadata": {},
   "source": [
    "We can also convert NumPy arrays into PyTorch tensors"
   ]
  },
  {
   "cell_type": "code",
   "execution_count": 38,
   "metadata": {},
   "outputs": [
    {
     "name": "stdout",
     "output_type": "stream",
     "text": [
      "[[0. 0.]\n",
      " [0. 0.]]\n",
      "float32\n"
     ]
    }
   ],
   "source": [
    "# 1 Define a numpt array\n",
    "import numpy as np\n",
    "x = np.zeros((2, 2), dtype=np.float32)\n",
    "print(x)\n",
    "print(x.dtype)"
   ]
  },
  {
   "cell_type": "code",
   "execution_count": 39,
   "metadata": {},
   "outputs": [
    {
     "name": "stdout",
     "output_type": "stream",
     "text": [
      "tensor([[0., 0.],\n",
      "        [0., 0.]])\n",
      "torch.float32\n"
     ]
    }
   ],
   "source": [
    "# 2 Convert the numpy array into a pytorch tensor\n",
    "y = torch.from_numpy(x)\n",
    "print(y)\n",
    "print(y.dtype)"
   ]
  },
  {
   "cell_type": "markdown",
   "metadata": {},
   "source": [
    "#### **Moving tensors between devices**"
   ]
  },
  {
   "cell_type": "markdown",
   "metadata": {},
   "source": [
    "By default, PyTorch tensors are stored on the CPU. PyTorch tensors can be utilized on a GPU to speed up computing. This is the main advantage of tensors compared to NumPy arrays. To get this advantage, we need to move the tensors to the CUDA device. We can move tensors onto any device using the `.to` method:"
   ]
  },
  {
   "cell_type": "code",
   "execution_count": 40,
   "metadata": {},
   "outputs": [
    {
     "name": "stdout",
     "output_type": "stream",
     "text": [
      "tensor([1.5000, 2.0000])\n",
      "cpu\n"
     ]
    }
   ],
   "source": [
    "# 1 Define a tensor on the CPU\n",
    "x = torch.tensor([1.5, 2])\n",
    "print(x)\n",
    "print(x.device)"
   ]
  },
  {
   "cell_type": "code",
   "execution_count": 41,
   "metadata": {},
   "outputs": [
    {
     "name": "stdout",
     "output_type": "stream",
     "text": [
      "tensor([1.5000, 2.0000], device='cuda:0')\n"
     ]
    }
   ],
   "source": [
    "# 2 Define a CUDA device\n",
    "if torch.cuda.is_available():\n",
    "    device = torch.device('cuda:0')\n",
    "\n",
    "# 3 Move the tensor onto the CUDA device\n",
    "x = x.to(device)\n",
    "print(x)"
   ]
  },
  {
   "cell_type": "code",
   "execution_count": 42,
   "metadata": {},
   "outputs": [
    {
     "name": "stdout",
     "output_type": "stream",
     "text": [
      "tensor([1.5000, 2.0000])\n",
      "cpu\n"
     ]
    }
   ],
   "source": [
    "# 4 Similarly, we can move tensors to CPU\n",
    "# define a cpu device\n",
    "device = torch.device(\"cpu\")\n",
    "x = x.to(device) \n",
    "print(x)\n",
    "print(x.device)"
   ]
  },
  {
   "cell_type": "code",
   "execution_count": 43,
   "metadata": {},
   "outputs": [
    {
     "name": "stdout",
     "output_type": "stream",
     "text": [
      "tensor([[1., 1.],\n",
      "        [1., 1.]], device='cuda:0')\n"
     ]
    }
   ],
   "source": [
    "# 5 We can also directly create a tensor on any device:\n",
    "# define a tensor on device\n",
    "device = torch.device(\"cuda:0\")\n",
    "x = torch.ones(2,2, device=device) \n",
    "print(x)"
   ]
  },
  {
   "cell_type": "markdown",
   "metadata": {},
   "source": [
    "### **How it works**"
   ]
  },
  {
   "cell_type": "markdown",
   "metadata": {},
   "source": [
    "First, we defined a tensor, obtained the tensor type, and changed its type. Then, we converted PyTorch tensors into NumPy arrays and vice versa. We also moved tensors between the CPU and CUDA devices. Next, we showed you how to change a tensor data type using the `.type` method. Then, we showed how to convert PyTorch tensors into NumPy arrays using the `.numpy` method. \n",
    "\n",
    "After that, we showed you how to convert a NumPy array into a PyTorch tensor using the `.from_numpy(x)` method. Then, we showed you how to move tensors from a CPU device to a GPU device and vice versa, using the `.to` method. As you have seen, if you do not specify the device, the tensor will be hosted on the CPU device."
   ]
  },
  {
   "cell_type": "markdown",
   "metadata": {},
   "source": [
    "## **Loading and processing data**"
   ]
  },
  {
   "cell_type": "markdown",
   "metadata": {},
   "source": [
    "In most cases, it's assumed that we **receive data in three groups**: **training**, **validation**, and **test**. We use the **training dataset to train the model**. The **validation dataset is used to track the model's performance during training**. We use the **test dataset for the final evaluation of the model**. The target values of the test dataset are usually hidden from us. **We need at least one training dataset and one validation dataset to be able to develop and train a model**. Sometimes, we receive only one dataset. In such cases, we can split the dataset into two or three groups.\n",
    "\n",
    "Each dataset is comprised of inputs and targets. It is common to represent the inputs with `x` or `X` and the targets with `y` or `Y`. We add the suffixes `train`, `val`, and `test` to distinguish each dataset.\n",
    "\n",
    "In this recipe, we will learn about PyTorch data tools. We can use these tools to load and process data. \n"
   ]
  },
  {
   "cell_type": "markdown",
   "metadata": {},
   "source": [
    "### **How to do it**"
   ]
  },
  {
   "cell_type": "markdown",
   "metadata": {},
   "source": [
    "#### **Loading the dataset**"
   ]
  },
  {
   "cell_type": "markdown",
   "metadata": {},
   "source": [
    "The PyTorch `torchvision` package provides multiple popular datasets. Let's load MNIST dataset from `torchvision`"
   ]
  },
  {
   "cell_type": "code",
   "execution_count": 44,
   "metadata": {},
   "outputs": [
    {
     "name": "stdout",
     "output_type": "stream",
     "text": [
      "torch.Size([60000, 28, 28])\n",
      "torch.Size([60000])\n"
     ]
    }
   ],
   "source": [
    "# 1 First, we will load the MNIST training dataset\n",
    "from torchvision import datasets\n",
    "# path to store the data and/or load from\n",
    "path2data = '../data'\n",
    "\n",
    "# loading training data\n",
    "train_data = datasets.MNIST(path2data, train=True, download=True)\n",
    "\n",
    "# 2 Then we will extract the input data and target labels\n",
    "# extract data and targets\n",
    "X_train, y_train = train_data.data, train_data.targets\n",
    "print(X_train.shape)\n",
    "print(y_train.shape)"
   ]
  },
  {
   "cell_type": "code",
   "execution_count": 45,
   "metadata": {},
   "outputs": [
    {
     "name": "stdout",
     "output_type": "stream",
     "text": [
      "torch.Size([10000, 28, 28])\n",
      "torch.Size([10000])\n",
      "torch.Size([60000, 1, 28, 28])\n",
      "torch.Size([10000, 1, 28, 28])\n"
     ]
    }
   ],
   "source": [
    "# 3 Next, we will load the MNIST test dataset:\n",
    "# loading validation data\n",
    "val_data = datasets.MNIST(path2data, train=False, download=True)\n",
    "\n",
    "# 4 Then, we will extract the input data and target labels:\n",
    "# extract data and targets\n",
    "X_val, y_val = val_data.data, val_data.targets\n",
    "print(X_val.shape)\n",
    "print(y_val.shape)\n",
    "\n",
    "# 5 After that, we will add a new dimension to the tensors:\n",
    "# add a dimension to tensor to become B*C*H*W\n",
    "if len(X_train.shape) == 3:\n",
    "    X_train = X_train.unsqueeze(1)\n",
    "print(X_train.shape)\n",
    "\n",
    "if len(X_val.shape)==3:\n",
    "    X_val = X_val.unsqueeze(1)\n",
    "print(X_val.shape)"
   ]
  },
  {
   "cell_type": "markdown",
   "metadata": {},
   "source": [
    "Now, let's display a few sample images."
   ]
  },
  {
   "cell_type": "code",
   "execution_count": 46,
   "metadata": {},
   "outputs": [
    {
     "name": "stdout",
     "output_type": "stream",
     "text": [
      "torch.Size([3, 152, 242])\n"
     ]
    },
    {
     "data": {
      "image/png": "[encoded data removed]",
      "text/plain": [
       "<Figure size 640x480 with 1 Axes>"
      ]
     },
     "metadata": {},
     "output_type": "display_data"
    }
   ],
   "source": [
    "# 6 Next, we will import the required packages:\n",
    "from torchvision import utils\n",
    "import matplotlib.pyplot as plt\n",
    "import numpy as np\n",
    "%matplotlib inline\n",
    "\n",
    "# 7 Then, we will define a helper function to display tensors as images:\n",
    "def show(img):\n",
    "    # convert tensor to numpy array\n",
    "    npimg = img.numpy()\n",
    "    # Convert to H*W*C shape\n",
    "    npimg_tr=np.transpose(npimg, (1,2,0))\n",
    "    plt.imshow(npimg_tr, interpolation='nearest')\n",
    "\n",
    "# 8 Next, we will create a grid of images and display them:\n",
    "# make a grid of 40 images, 8 images per row\n",
    "X_grid = utils.make_grid(X_train[:40], nrow=8, padding=2)\n",
    "print(X_grid.shape)\n",
    "\n",
    "# call helper function\n",
    "show(X_grid)"
   ]
  },
  {
   "cell_type": "markdown",
   "metadata": {},
   "source": [
    "#### **Data transformation** "
   ]
  },
  {
   "cell_type": "markdown",
   "metadata": {},
   "source": [
    "Image transformation (also called augmentation) is an effective technique that's used to improve a model's performance. The `torchvision` package provides common image transformations through the transform class. Let's take a look:"
   ]
  },
  {
   "cell_type": "code",
   "execution_count": 47,
   "metadata": {},
   "outputs": [
    {
     "data": {
      "text/plain": [
       "Text(0.5, 1.0, 'transformed')"
      ]
     },
     "execution_count": 47,
     "metadata": {},
     "output_type": "execute_result"
    },
    {
     "data": {
      "image/png": "[encoded data removed]",
      "text/plain": [
       "<Figure size 640x480 with 2 Axes>"
      ]
     },
     "metadata": {},
     "output_type": "display_data"
    }
   ],
   "source": [
    "# 1 Let's define a transform class in order to apply so some image transformations on the MNIST dataset\n",
    "from torchvision import transforms\n",
    "# loading MNIST training dataset\n",
    "train_data=datasets.MNIST(path2data, train=True, download=True)\n",
    "\n",
    "# define transformations\n",
    "data_transform = transforms.Compose([\n",
    "        transforms.RandomHorizontalFlip(p=1),\n",
    "        transforms.RandomVerticalFlip(p=1),\n",
    "        transforms.ToTensor(),\n",
    "    ])\n",
    "\n",
    "# 2 Let's apply the transformations on an image from the MNIST dataset:\n",
    "# get a sample image from training dataset\n",
    "img = train_data[0][0]\n",
    "\n",
    "# transform sample image\n",
    "img_tr=data_transform(img)\n",
    "\n",
    "# convert tensor to numpy array\n",
    "img_tr_np=img_tr.numpy()\n",
    "\n",
    "# show original and transformed images\n",
    "plt.subplot(1,2,1)\n",
    "plt.imshow(img,cmap=\"gray\")\n",
    "plt.title(\"original\")\n",
    "plt.subplot(1,2,2)\n",
    "plt.imshow(img_tr_np[0],cmap=\"gray\");\n",
    "plt.title(\"transformed\")"
   ]
  },
  {
   "cell_type": "code",
   "execution_count": 48,
   "metadata": {},
   "outputs": [],
   "source": [
    "# 3 We can also pass the transformer function to the dataset class:\n",
    "# define transformations\n",
    "data_transform = transforms.Compose([\n",
    "        transforms.RandomHorizontalFlip(1),\n",
    "        transforms.RandomVerticalFlip(1),\n",
    "        transforms.ToTensor(),\n",
    "    ])\n",
    "\n",
    "# Loading MNIST training data with on-the-fly transformations\n",
    "train_data=datasets.MNIST(path2data, train=True, download=True, transform=data_transform )"
   ]
  },
  {
   "cell_type": "markdown",
   "metadata": {},
   "source": [
    "#### **Wrapping tensors into a dataset** "
   ]
  },
  {
   "cell_type": "markdown",
   "metadata": {},
   "source": [
    "If your **data is available in tensors**, you can **wrap them as a PyTorch dataset** using the `TensorDataset` class. This will make it **easier to iterate over data during training**. Let's get started:"
   ]
  },
  {
   "cell_type": "code",
   "execution_count": 49,
   "metadata": {},
   "outputs": [
    {
     "name": "stdout",
     "output_type": "stream",
     "text": [
      "torch.Size([1, 28, 28]) 5\n"
     ]
    }
   ],
   "source": [
    "# 1 Let's create a PyTorch dataset by wrapping x_train and y_train :\n",
    "from torch.utils.data import TensorDataset\n",
    "\n",
    "# wrap tensors into a dataset\n",
    "train_ds = TensorDataset(X_train, y_train)\n",
    "val_ds = TensorDataset(X_val, y_val)\n",
    "\n",
    "for x, y in train_ds:\n",
    "    print(x.shape, y.item())\n",
    "    break"
   ]
  },
  {
   "cell_type": "markdown",
   "metadata": {},
   "source": [
    "#### **Creating data loaders**"
   ]
  },
  {
   "cell_type": "markdown",
   "metadata": {},
   "source": [
    "To **easily iterate over the data during training, we can create a data loader** using the `DataLoader` class, as follows:"
   ]
  },
  {
   "cell_type": "code",
   "execution_count": 50,
   "metadata": {},
   "outputs": [
    {
     "name": "stdout",
     "output_type": "stream",
     "text": [
      "torch.Size([8, 1, 28, 28])\n",
      "torch.Size([8])\n"
     ]
    }
   ],
   "source": [
    "# 1 Let's create two data loaders for the training and validation datasets:\n",
    "from torch.utils.data import DataLoader\n",
    "\n",
    "# create a data loader from dataset\n",
    "train_dl = DataLoader(train_ds, batch_size=8)\n",
    "val_dl = DataLoader(val_ds, batch_size=8)\n",
    "\n",
    "# iterate over batches\n",
    "for xb,yb in train_dl:\n",
    "    print(xb.shape)\n",
    "    print(yb.shape)\n",
    "    break"
   ]
  },
  {
   "cell_type": "markdown",
   "metadata": {},
   "source": [
    "### **How it works**"
   ]
  },
  {
   "cell_type": "markdown",
   "metadata": {},
   "source": [
    "First, we imported the `datasets` package from `torchvision`. This package contains several famous datasets, including **MNIST**. Then, we downloaded the **MNIST** training dataset into a local folder. Once downloaded, you can set the `download` flag to `False` in future runs. Next, we extracted the input data and target labels into PyTorch tensors and printed their size. Here, the training dataset contains $60,000$ inputs and targets. Then, we repeated the same step for the MNIST test dataset. To download the MNIST test dataset, we set the `train` flag to False. Here, the test dataset contains $10,000$ inputs and targets.\n",
    "\n",
    "Next, we added a new dimension to the input tensors since **we want the tensor shape to be `B*C*H*W`**, where `B`, `C`, `H`, and `W` are `batch size`, `channels`, `height`, and `width`, respectively. This is the **common shape for the inputs tensors in PyTorch**. Then, we defined a helper function to display sample images. We used `utils` from `torchvision` to create a grid of $40$ images in $5$ rows and $8$ columns.\n",
    "\n",
    "In the Data transformation subsection, we introduced the `torchvision.transforms` package. This package provides multiple transformation functions. We composed the `RandomHorizontalFlip` and `RandomVerticalFlip` methods to augment the dataset and the `ToTensor` method to convert images into PyTorch tensors. The **probability of horizontal and vertical flips** was set to $p=1$ to **enforce flipping in the next step**. We employed the data transformer on a sample image. Check out the original and the transformed image. The transformed image has been flipped both vertically and horizontally.\n",
    "\n",
    "Then, we passed the transformer function to the dataset class. This way, **data transformation will happen on-the-fly**. This is a **useful technique for large datasets that cannot be loaded into memory all at once**.\n",
    "\n",
    "In the *Wrapping tensors into a dataset* subsection, we created a dataset from tensors. For example, we can create a PyTorch dataset by wrapping x_train and y_train. This technique will be useful for **cases where the input and output data is available as tensors**.\n",
    "\n",
    "In the *Creating data loaders* subsection, we used the `DataLoader` class to define data loaders. This is a **good technique to easily iterate over datasets during training or evaluation**. When creating a data loader, **we need to specify the batch size**. We created two data loaders from `train_ds` and `val_ds`. Then, we extracted a mini-batch from `train_dl`. Check out the shape of the mini-batch. "
   ]
  },
  {
   "cell_type": "markdown",
   "metadata": {},
   "source": [
    "## **Building models**"
   ]
  },
  {
   "cell_type": "markdown",
   "metadata": {},
   "source": [
    "A **model** is **a collection of connected layers that process the inputs to generate the outputs**. You can use the `nn` package to define models. The `nn` package is a **collection of modules that provide common deep learning layers**. A module or layer of `nn` **receives input tensors, computes output tensors**, **and holds the weights**, if any. There are two methods we can use to define models in PyTorch: `nn.Sequential` and `nn.Module`."
   ]
  },
  {
   "cell_type": "markdown",
   "metadata": {},
   "source": [
    "### **How to do it**"
   ]
  },
  {
   "cell_type": "markdown",
   "metadata": {},
   "source": [
    "We will define a linear layer, a $2$-layer network, and a multilayer convolutional network."
   ]
  },
  {
   "cell_type": "markdown",
   "metadata": {},
   "source": [
    "#### **Defining a linear layer**"
   ]
  },
  {
   "cell_type": "markdown",
   "metadata": {},
   "source": [
    "Let's create a linear layer and print out its output size:"
   ]
  },
  {
   "cell_type": "code",
   "execution_count": 51,
   "metadata": {},
   "outputs": [
    {
     "name": "stdout",
     "output_type": "stream",
     "text": [
      "torch.Size([64, 100])\n"
     ]
    }
   ],
   "source": [
    "from torch import nn\n",
    "# input tensor dimension 64*1000\n",
    "input_tensor = torch.randn(64, 1000)\n",
    "\n",
    "# linear layer with 1000 inputs and 100 output\n",
    "linear_layer = nn.Linear(1000, 100)\n",
    "\n",
    "# output of the linear layer\n",
    "output = linear_layer(input_tensor)\n",
    "print(output.size())"
   ]
  },
  {
   "cell_type": "markdown",
   "metadata": {},
   "source": [
    "#### **Defining models using `nn.Sequential`**"
   ]
  },
  {
   "cell_type": "markdown",
   "metadata": {},
   "source": [
    "We can use the `nn.Sequential` package to **create a deep learning model by passing layers in order**. Consider the $2$-layer neural network depicted in the following image:\n",
    "\n",
    "![](2_layer_net.png)\n",
    "\n",
    "As we can see, the network has $4$ nodes as input, $5$ nodes in the hidden layer, and $1$ node as the output. Next, we will show you how to implement the network:"
   ]
  },
  {
   "cell_type": "code",
   "execution_count": 52,
   "metadata": {},
   "outputs": [
    {
     "name": "stdout",
     "output_type": "stream",
     "text": [
      "Sequential(\n",
      "  (0): Linear(in_features=4, out_features=5, bias=True)\n",
      "  (1): ReLU()\n",
      "  (2): Linear(in_features=5, out_features=1, bias=True)\n",
      ")\n"
     ]
    }
   ],
   "source": [
    "# 1 Let's implement and print the model using nn.Sequential\\\n",
    "from torch import nn\n",
    "\n",
    "# define a 2-layer model\n",
    "model = nn.Sequential(\n",
    "        nn.Linear(4, 5),\n",
    "        nn.ReLU(),\n",
    "        nn.Linear(5, 1),\n",
    "    )\n",
    "print(model)"
   ]
  },
  {
   "cell_type": "markdown",
   "metadata": {},
   "source": [
    "#### **Defining models usings `nn.Module`**"
   ]
  },
  {
   "cell_type": "markdown",
   "metadata": {},
   "source": [
    "Another way of defining models in PyTorch is by subclassing the `nn.Module`a class. In this method, we **specify the layers** in the `__init__` method of the class. Then, in the `forward` method, we **apply the layers to inputs**. This method **provides better flexibility for building customized models**.\n",
    "\n",
    "Consider a multilayer model, as shown in the following image:\n",
    "\n",
    "![](multilayerlayer_model.png)\n",
    "\n",
    "As seen in the preceding image, the model has two convolutional layers and two fully connected layers. Next, we will show you how to implement the model.\n",
    "\n",
    "Let's implement the multilayer model using `nn.Module`:"
   ]
  },
  {
   "cell_type": "code",
   "execution_count": 53,
   "metadata": {},
   "outputs": [
    {
     "name": "stdout",
     "output_type": "stream",
     "text": [
      "Net(\n",
      "  (conv1): Conv2d(1, 20, kernel_size=(5, 5), stride=(1, 1))\n",
      "  (conv2): Conv2d(20, 50, kernel_size=(5, 5), stride=(1, 1))\n",
      "  (fc1): Linear(in_features=800, out_features=500, bias=True)\n",
      "  (fc2): Linear(in_features=500, out_features=10, bias=True)\n",
      ")\n"
     ]
    }
   ],
   "source": [
    "# 1 First, we implement the multilayer model using nn.Module\n",
    "import torch.nn.functional as F\n",
    "\n",
    "class Net(nn.Module):\n",
    "    # 2 Then, we will define the __init__ function:\n",
    "    def __init__(self):\n",
    "        super(Net, self).__init__()\n",
    "        self.conv1 = nn.Conv2d(1, 20, 5, 1)\n",
    "        self.conv2 = nn.Conv2d(20, 50, 5, 1)\n",
    "        self.fc1 = nn.Linear(4*4*50, 500)\n",
    "        self.fc2 = nn.Linear(500, 10)\n",
    "\n",
    "    # 3 Next, we will define the forward function:\n",
    "    def forward(self, x):\n",
    "        x = F.relu(self.conv1(x))\n",
    "        x = F.max_pool2d(x, 2, 2)\n",
    "        x = F.relu(self.conv2(x))\n",
    "        x = F.max_pool2d(x, 2, 2)\n",
    "        x = x.view(-1, 4*4*50)\n",
    "        x = F.relu(self.fc1(x))\n",
    "        x = self.fc2(x)\n",
    "        return F.log_softmax(x, dim=1)\n",
    "\n",
    "        # 4 Then, we will override both class functions, __init__ and forward:\n",
    "        # Net.__init__ = __init__\n",
    "        # Net.forward = forward\n",
    "\n",
    "# 5 Next, we will create an object of the Net class and print the model:\n",
    "model = Net()    \n",
    "print(model)"
   ]
  },
  {
   "cell_type": "markdown",
   "metadata": {},
   "source": [
    "#### **Moving the model to a CUDA devide**"
   ]
  },
  {
   "cell_type": "markdown",
   "metadata": {},
   "source": [
    "A model is a collection of parameters. By default, the model will be hosted on the CPU"
   ]
  },
  {
   "cell_type": "code",
   "execution_count": 54,
   "metadata": {},
   "outputs": [
    {
     "name": "stdout",
     "output_type": "stream",
     "text": [
      "tensor([[[[ 3.7065e-03,  4.8027e-02,  8.1465e-02, -1.5327e-01,  1.9160e-01],\n",
      "          [ 7.6873e-02, -7.7875e-02,  1.8059e-01,  1.9553e-01, -1.6257e-01],\n",
      "          [-1.1791e-01, -1.5735e-02, -1.0542e-02,  1.8242e-01, -7.6568e-02],\n",
      "          [-1.9482e-02,  2.3838e-03,  1.8803e-01,  2.8744e-03, -8.0280e-02],\n",
      "          [-1.4653e-01,  7.2406e-02, -1.9928e-01, -1.7073e-01,  1.0188e-01]]],\n",
      "\n",
      "\n",
      "        [[[-9.5549e-02, -4.4911e-02, -1.2313e-01, -8.5943e-02,  9.2431e-02],\n",
      "          [-1.7169e-01, -1.5108e-01,  1.0783e-01, -1.8635e-01, -1.5265e-01],\n",
      "          [ 6.6771e-02, -9.1921e-02, -1.2419e-01,  1.0851e-01, -1.0471e-01],\n",
      "          [-1.8647e-01, -3.8100e-02, -4.3352e-02,  5.4372e-02, -2.6391e-02],\n",
      "          [-1.1983e-01, -9.1693e-02,  8.6923e-03,  2.0887e-02,  3.4373e-02]]],\n",
      "\n",
      "\n",
      "        [[[ 1.9464e-01, -4.2840e-02,  1.0328e-01, -4.2482e-02, -3.4480e-02],\n",
      "          [-4.0498e-02, -8.4061e-02, -1.0983e-01, -1.1285e-01,  2.1171e-02],\n",
      "          [-1.4118e-01, -6.7420e-02,  9.8690e-02, -1.9660e-01, -1.9838e-01],\n",
      "          [ 6.2569e-02, -5.5898e-02, -1.7945e-01,  1.7959e-01, -1.0869e-01],\n",
      "          [-9.3297e-02,  9.0653e-02,  1.9911e-01,  1.7265e-01, -3.4426e-03]]],\n",
      "\n",
      "\n",
      "        [[[ 7.4400e-02,  9.3965e-02,  3.7188e-02,  1.1740e-01, -9.1759e-02],\n",
      "          [-5.9301e-02,  3.7627e-02, -3.4671e-02,  1.6604e-01,  9.7540e-02],\n",
      "          [-1.0970e-01,  1.5097e-01, -6.0416e-02, -1.7040e-01, -2.8697e-02],\n",
      "          [ 1.1083e-01, -7.9904e-02,  4.6471e-02, -1.9357e-02, -4.1315e-02],\n",
      "          [ 1.0781e-01,  1.2507e-01,  2.5333e-02,  1.7230e-01,  1.8021e-01]]],\n",
      "\n",
      "\n",
      "        [[[ 3.1903e-02,  1.0563e-01, -1.2111e-01, -5.1734e-02,  7.2134e-02],\n",
      "          [-1.1384e-01, -1.5318e-01,  1.2088e-01, -1.1816e-01,  1.3170e-01],\n",
      "          [-2.4572e-02, -1.5603e-01, -1.2704e-01,  1.8925e-01, -1.1283e-01],\n",
      "          [-1.0449e-01,  2.8497e-02, -1.3836e-03,  1.8359e-01, -1.2618e-01],\n",
      "          [ 1.3420e-01, -1.3017e-01,  5.7586e-02, -1.6520e-01, -6.4807e-02]]],\n",
      "\n",
      "\n",
      "        [[[-3.2352e-02,  1.4426e-02, -1.7538e-01, -1.4664e-02, -3.8412e-02],\n",
      "          [ 6.6629e-02, -9.0055e-02,  1.5621e-01,  1.3756e-01, -1.8294e-01],\n",
      "          [ 3.9158e-02, -4.2974e-02, -4.6936e-03,  1.2167e-01, -8.9740e-02],\n",
      "          [-1.0619e-01, -4.3134e-02, -4.5531e-03, -1.3061e-01,  1.9906e-01],\n",
      "          [-8.3115e-02, -1.7826e-01,  1.6817e-01,  1.6995e-01,  6.1982e-02]]],\n",
      "\n",
      "\n",
      "        [[[ 7.0665e-02, -1.2512e-01, -2.6307e-02,  5.7428e-03, -8.3105e-02],\n",
      "          [-4.4611e-02,  1.7018e-01, -9.1152e-02, -1.0969e-01,  1.0281e-01],\n",
      "          [ 8.8181e-02, -8.8349e-02, -1.2148e-01,  4.9348e-02,  1.5597e-01],\n",
      "          [ 8.3072e-02, -8.4848e-02, -9.5708e-02,  1.8425e-01, -2.5929e-02],\n",
      "          [-1.4322e-01,  1.4761e-01,  1.8036e-01, -4.5134e-02, -1.9456e-01]]],\n",
      "\n",
      "\n",
      "        [[[ 8.9744e-02, -1.5387e-02,  8.1593e-02, -4.4255e-02,  8.4940e-02],\n",
      "          [ 2.7055e-02, -2.5145e-02, -8.0333e-02,  6.2572e-03, -1.1704e-01],\n",
      "          [-1.1725e-01,  1.7898e-01, -5.2190e-02,  7.9993e-02,  8.7907e-02],\n",
      "          [ 1.3908e-01,  1.0537e-01,  7.0032e-03,  3.2490e-02, -9.5897e-02],\n",
      "          [ 1.2659e-01,  1.4571e-02, -1.9195e-01,  1.5210e-01,  1.5384e-01]]],\n",
      "\n",
      "\n",
      "        [[[-4.0615e-02,  1.8237e-01, -1.3530e-01, -4.8005e-02, -6.3971e-02],\n",
      "          [ 1.7317e-01, -1.9155e-01, -7.4129e-03, -9.3415e-02,  1.3310e-01],\n",
      "          [-1.7865e-01,  1.1380e-01,  4.8741e-02,  4.7955e-02,  1.3386e-01],\n",
      "          [-3.7476e-02, -1.4284e-01,  1.6762e-01,  1.0630e-01,  5.9012e-03],\n",
      "          [-1.3687e-03, -8.5604e-02, -1.1768e-03, -1.2321e-01,  1.9332e-01]]],\n",
      "\n",
      "\n",
      "        [[[ 1.1245e-02, -1.1314e-01,  2.3432e-02,  1.0049e-02, -1.7344e-01],\n",
      "          [-1.7910e-01,  1.8231e-01, -9.7296e-02, -1.4726e-01,  1.6706e-01],\n",
      "          [ 1.8657e-01, -1.3015e-01, -2.7665e-02,  1.7309e-01,  3.8619e-02],\n",
      "          [-6.6518e-02, -1.7525e-01, -1.2065e-01, -1.6675e-01,  5.9867e-04],\n",
      "          [-1.3840e-01, -1.1433e-01, -1.1664e-01,  1.8575e-01,  1.5884e-01]]],\n",
      "\n",
      "\n",
      "        [[[-1.6307e-01, -1.4359e-01, -5.4039e-03,  5.1203e-02, -1.4024e-01],\n",
      "          [ 4.8911e-02,  8.2675e-02,  1.8240e-02, -1.1456e-01, -8.5298e-02],\n",
      "          [-1.5180e-01,  3.1611e-02, -1.4658e-02, -9.6860e-03, -1.7996e-01],\n",
      "          [ 1.0840e-01, -1.8371e-01,  1.2589e-03,  3.4009e-02,  9.5557e-02],\n",
      "          [-1.9058e-01, -2.4164e-04,  7.7429e-02, -8.1082e-03,  1.7198e-01]]],\n",
      "\n",
      "\n",
      "        [[[-5.5876e-02,  9.9205e-02, -1.2563e-01,  1.5151e-01,  3.4773e-02],\n",
      "          [-8.7844e-02,  1.7761e-01,  4.8251e-02,  1.6005e-01,  2.7349e-02],\n",
      "          [-1.2427e-01, -5.7310e-02, -1.9307e-01, -1.0488e-01,  1.4690e-01],\n",
      "          [-6.1991e-02,  7.8355e-02,  2.7214e-02, -1.4077e-02, -1.7598e-01],\n",
      "          [ 4.8756e-03,  1.3540e-01, -4.0009e-02,  1.7597e-02, -2.3372e-02]]],\n",
      "\n",
      "\n",
      "        [[[-1.8833e-01,  4.4324e-02,  9.9851e-02,  1.2621e-01,  5.0399e-02],\n",
      "          [-1.0772e-01, -3.6407e-02, -1.6470e-02,  1.2050e-01,  1.7129e-01],\n",
      "          [-7.0884e-03,  1.6826e-01, -3.9859e-02, -7.3268e-02,  9.7330e-02],\n",
      "          [-1.7712e-01,  1.4932e-01, -1.9663e-01, -1.7718e-01, -1.5296e-01],\n",
      "          [-7.3421e-03,  5.9066e-02,  4.3119e-02, -6.7066e-02,  5.1393e-02]]],\n",
      "\n",
      "\n",
      "        [[[-6.9364e-02, -3.7200e-02, -1.4060e-01, -1.9848e-01,  1.8204e-01],\n",
      "          [-1.3824e-01,  1.0173e-01, -9.7140e-02, -1.3794e-01, -1.6723e-01],\n",
      "          [-1.6774e-02, -4.1543e-02,  1.1934e-01,  5.1265e-02, -1.4364e-01],\n",
      "          [ 1.4120e-01,  1.3869e-01,  1.9713e-01,  1.2863e-01, -8.2742e-02],\n",
      "          [-9.4670e-02, -1.9882e-01, -1.9633e-01, -1.6661e-01,  2.8958e-02]]],\n",
      "\n",
      "\n",
      "        [[[-1.9273e-02, -1.6119e-01, -4.7665e-02,  6.1162e-02, -1.1816e-01],\n",
      "          [ 1.6466e-01,  3.2868e-02,  1.7711e-01, -2.5426e-02, -3.5556e-02],\n",
      "          [ 1.8682e-01, -4.8313e-02,  1.5209e-01, -1.8454e-01,  1.0004e-01],\n",
      "          [-1.0150e-01,  1.9811e-01,  1.1924e-01, -3.2706e-02,  9.1312e-02],\n",
      "          [-1.9689e-01,  7.8105e-02,  1.9773e-01,  8.5592e-03, -6.4946e-02]]],\n",
      "\n",
      "\n",
      "        [[[ 1.5159e-01, -6.7601e-02, -1.4250e-03, -1.9633e-01, -1.0477e-01],\n",
      "          [ 9.7250e-02, -1.1362e-01, -6.8190e-02, -1.3646e-01,  1.8867e-01],\n",
      "          [ 9.0596e-02, -1.8336e-01, -1.2009e-01,  8.0453e-03,  1.6770e-01],\n",
      "          [-4.8366e-03,  1.6727e-01,  1.3286e-01, -1.0406e-01,  3.9371e-02],\n",
      "          [-1.7420e-01, -1.2527e-01,  1.0358e-01,  6.8152e-02,  3.6739e-02]]],\n",
      "\n",
      "\n",
      "        [[[ 9.5935e-02, -7.4071e-02, -4.7272e-02,  7.6074e-02, -1.6838e-01],\n",
      "          [-1.7199e-01, -1.5523e-01, -9.0356e-02,  1.9365e-01,  4.2663e-02],\n",
      "          [ 1.8019e-01, -5.1449e-02,  9.3478e-02,  5.7026e-03,  1.8709e-01],\n",
      "          [ 1.6941e-01, -1.2765e-01, -1.6774e-01,  2.1224e-02,  1.2448e-01],\n",
      "          [ 1.3265e-01, -1.8032e-01, -5.6306e-02, -1.0568e-02,  1.3398e-01]]],\n",
      "\n",
      "\n",
      "        [[[ 1.4315e-01,  1.5759e-01, -9.1871e-02, -1.7923e-01, -2.4145e-03],\n",
      "          [ 2.4156e-03, -1.3794e-01,  5.3970e-02, -6.5795e-02, -8.4287e-02],\n",
      "          [ 1.3270e-01, -5.0604e-02,  1.6097e-01, -1.7878e-01,  1.9650e-01],\n",
      "          [ 1.8754e-01,  1.8655e-01, -2.2181e-02, -5.3274e-02, -1.9888e-01],\n",
      "          [-2.9615e-02, -2.5732e-02, -1.9461e-01, -8.0171e-02,  3.9129e-02]]],\n",
      "\n",
      "\n",
      "        [[[ 1.3744e-01,  7.0901e-02, -8.5659e-02, -1.2571e-01,  9.3697e-02],\n",
      "          [-7.8401e-04,  1.9305e-01, -1.7513e-01, -1.9174e-01,  1.4511e-01],\n",
      "          [-1.9576e-01,  1.9566e-01, -5.9823e-02,  1.1349e-02, -3.3700e-02],\n",
      "          [-1.5823e-01, -8.1510e-02,  1.2688e-01, -2.0882e-02,  1.7678e-01],\n",
      "          [ 1.6718e-01, -1.3799e-01,  5.3796e-02,  1.5098e-01,  1.6477e-01]]],\n",
      "\n",
      "\n",
      "        [[[ 4.2940e-02,  1.0154e-02,  1.9253e-01, -1.3477e-01,  1.2950e-02],\n",
      "          [ 1.6205e-01,  6.4841e-02,  8.4428e-02, -9.7892e-02, -1.1955e-01],\n",
      "          [ 7.8281e-02, -2.4857e-02, -1.3916e-01, -2.4027e-02,  4.1215e-02],\n",
      "          [ 1.6323e-01,  5.9159e-02,  3.8858e-02,  3.9164e-02, -1.3977e-02],\n",
      "          [-3.5886e-02, -1.9504e-01,  5.9027e-02, -1.9660e-01, -1.2723e-04]]]],\n",
      "       device='cuda:0', grad_fn=<ToCopyBackward0>)\n"
     ]
    }
   ],
   "source": [
    "# 1 Let's get the model device\n",
    "print(next(model.parameters()).to(device))"
   ]
  },
  {
   "cell_type": "code",
   "execution_count": 55,
   "metadata": {},
   "outputs": [
    {
     "name": "stdout",
     "output_type": "stream",
     "text": [
      "cuda:0\n"
     ]
    }
   ],
   "source": [
    "# 2 Then, we will move the model to the CUDA device:\n",
    "device = torch.device(\"cuda:0\")\n",
    "model.to(device)\n",
    "print(next(model.parameters()).device)"
   ]
  },
  {
   "cell_type": "markdown",
   "metadata": {},
   "source": [
    "#### **Printing the model summary**"
   ]
  },
  {
   "cell_type": "markdown",
   "metadata": {},
   "source": [
    "It is usually helpful to get a summary of the model to see the output shape and the number of parameters in each layer. Printing a model does not provide this kind of information. We can use the torchsummary package from the following GitHub repository for this purpose [https://github.com/sksq96/pytorch-summary](https://github.com/sksq96/pytorch-summary)"
   ]
  },
  {
   "cell_type": "code",
   "execution_count": 56,
   "metadata": {},
   "outputs": [
    {
     "name": "stdout",
     "output_type": "stream",
     "text": [
      "Collecting torchsummaryNote: you may need to restart the kernel to use updated packages.\n",
      "\n",
      "  Downloading torchsummary-1.5.1-py3-none-any.whl (2.8 kB)\n",
      "Installing collected packages: torchsummary\n",
      "Successfully installed torchsummary-1.5.1\n"
     ]
    }
   ],
   "source": [
    "# 1 Install the torchsummary package\n",
    "%pip install torchsummary"
   ]
  },
  {
   "cell_type": "code",
   "execution_count": 57,
   "metadata": {},
   "outputs": [
    {
     "name": "stdout",
     "output_type": "stream",
     "text": [
      "----------------------------------------------------------------\n",
      "        Layer (type)               Output Shape         Param #\n",
      "================================================================\n",
      "            Conv2d-1           [-1, 20, 24, 24]             520\n",
      "            Conv2d-2             [-1, 50, 8, 8]          25,050\n",
      "            Linear-3                  [-1, 500]         400,500\n",
      "            Linear-4                   [-1, 10]           5,010\n",
      "================================================================\n",
      "Total params: 431,080\n",
      "Trainable params: 431,080\n",
      "Non-trainable params: 0\n",
      "----------------------------------------------------------------\n",
      "Input size (MB): 0.00\n",
      "Forward/backward pass size (MB): 0.12\n",
      "Params size (MB): 1.64\n",
      "Estimated Total Size (MB): 1.76\n",
      "----------------------------------------------------------------\n"
     ]
    }
   ],
   "source": [
    "# 2 Let's get the model summary using torchsummary\n",
    "from torchsummary import summary\n",
    "summary(model, input_size=(1, 28, 28))"
   ]
  },
  {
   "cell_type": "markdown",
   "metadata": {},
   "source": [
    "### **How it works**"
   ]
  },
  {
   "cell_type": "markdown",
   "metadata": {},
   "source": [
    "First, we showed you how to create a linear layer using the `nn` package. The linear layer receives the input of the $64 \\times 1000$ dimension, holds the weights of the $1000 \\times 100$ dimension, and computes the output of the $64 \\times 100$ dimension.\n",
    "\n",
    "Next, we defined a $2$-layer neural network using `nn.Sequential`. There were four neurons in the input layer, $5$ neurons in the hidden layer, and $1$ neuron in the output layer. Using the `print` command, you can visualize the model's layers.\n",
    "\n",
    "Next, we defined a multilayer model using `nn.Module`. The model has two `Conv2d` layers and $2$ fully connected linear layers. For better code readability, we presented the `Net` class in a few snippets. First, we defined the bulk of the class. Then, we defined the `__init__` function. As you saw, $2$ `Conv2d` layers and $2$ linear layers were defined in this function. Next, we defined the `forward` function. In this function, we defined the outline of the model and the way layers are connected to each other.\n",
    "\n",
    "We used `relu` and `max_pool2d` from `torch.nn.functional` to define the activation function and pooling layers, respectively. Check out the way we used the `.view` method to flatten the extracted features from the `Conv2d` layers. The feature size was $4 \\times 4$ and there were $50$ channels in the `self.conv2` layer. Due to this, the flatten size is $50 \\times 4 \\times 4$. Also, check out the returned values from the `forward` function. As we saw, the `log_softmax` function was applied to the outputs. Next, we overrode the `Net` class functions. Finally, we created an object of the `Net` class and called it `model`. Then, we printed the model. Note that the `print` command does not show functional layers such as `relu` and `max_pool2d`.\n",
    "\n",
    "In the Moving the model to a CUDA device subsection, we verified that the model was hosted on the CPU device. Then, we moved the model to the CUDA device using the `.to` method. Here, we moved the first GPU or `\"cuda:0\"`. If your system is equipped with multiple GPU devices, you can select a different number, for instance, `\"cuda:2\"`.\n",
    "\n",
    "Next, we installed the `torchsummary` package in the conda environment using the provided command. If you do not want to install this package, the other option is to copy `torchsummary.py` into the folder of your code.\n",
    "\n",
    "To get a model summary using `torchsummary`, we need to pass the input dimension to the `summary` function. For our MNIST example, we passed $(1,28,28)$ as the input dimension and displayed the model summary. As seen, the output shape and the number of parameters of each layer, except functional layers, is shown in the summary. \n",
    "\n",
    "Finally, we got the model summary using the `torchsummary` package."
   ]
  },
  {
   "cell_type": "markdown",
   "metadata": {},
   "source": [
    "## **Defining the loss function and optimizer**"
   ]
  },
  {
   "cell_type": "markdown",
   "metadata": {},
   "source": [
    "The loss function computes the distance between the model outputs and targets. It is also called the objective function, cost function, or criterion. Depending on the problem, we will define the appropriate loss function. For instance, for classification problems, we usually define the cross-entropy loss. \n",
    "\n",
    "We use the optimizer to update the model parameters (also called weights) during training. The optim package in PyTorch provides implementations of various optimization algorithms. These include **stochastic gradient descent (SGD)** and its variants, that is, Adam, RMSprop, and so on."
   ]
  },
  {
   "cell_type": "markdown",
   "metadata": {},
   "source": [
    "### **How to dot it**"
   ]
  },
  {
   "cell_type": "markdown",
   "metadata": {},
   "source": [
    "#### **Defining the loss function**"
   ]
  },
  {
   "cell_type": "markdown",
   "metadata": {},
   "source": [
    "We will define a loss function and test it on a mini-batch. Let's get started:"
   ]
  },
  {
   "cell_type": "code",
   "execution_count": 58,
   "metadata": {},
   "outputs": [
    {
     "name": "stdout",
     "output_type": "stream",
     "text": [
      "67.3324203491211\n"
     ]
    }
   ],
   "source": [
    "# 1 First, we will define the negative log-likelihood loss\n",
    "from torch import nn\n",
    "loss_func = nn.NLLLoss(reduction='sum')\n",
    "\n",
    "# 2 Let's test the loss function on a mini-batch\n",
    "for xb, yb in train_dl:\n",
    "    # move batch to cuda device\n",
    "    xb = xb.type(torch.float).to(device)\n",
    "    yb = yb.to(device)\n",
    "    # get model output\n",
    "    out = model(xb)\n",
    "    # calculate loss value\n",
    "    loss = loss_func(out, yb)\n",
    "    print(loss.item())\n",
    "    break"
   ]
  },
  {
   "cell_type": "code",
   "execution_count": 59,
   "metadata": {},
   "outputs": [],
   "source": [
    "# 3 Let's compute the gradients with respect to the model parameters:\n",
    "# compute gradients\n",
    "loss.backward()"
   ]
  },
  {
   "cell_type": "markdown",
   "metadata": {},
   "source": [
    "#### **Define the optimizer**"
   ]
  },
  {
   "cell_type": "markdown",
   "metadata": {},
   "source": [
    "We will define the optimizer and present the steps backward. Let's get started:"
   ]
  },
  {
   "cell_type": "code",
   "execution_count": 61,
   "metadata": {},
   "outputs": [],
   "source": [
    "# 1 Let's define the Adam optimizer\n",
    "from torch import optim\n",
    "opt = optim.Adam(model.parameters(), lr=1e-4)\n",
    "\n",
    "# 2 Use the following code to update the mode parameters\n",
    "# update model parameters\n",
    "opt.step()\n",
    "\n",
    "# 3 Next, we set the gradients to 0\n",
    "# set gradient to zero\n",
    "opt.zero_grad()"
   ]
  },
  {
   "cell_type": "markdown",
   "metadata": {},
   "source": [
    "### **How it works**"
   ]
  },
  {
   "cell_type": "markdown",
   "metadata": {},
   "source": [
    "First, we defined the loss function. We used the `torch.nn` package to define the ***negative log-likelihood loss***. This loss is **useful for training a classification problem with multiple classes**. The **input to this loss function should be log-probabilities**. If you recall from the Building models section, **we applied `log_softmax` at the output layer to get log-probabilities from the model**. Next, we presented the forward path. We **extracted a mini-batch**, **fed it to the model**, and **calculated the loss value**. Next, we used the `.backward` method to **compute the gradients of the loss with respect to the model parameters**. **This step will be used during the backpropagation algorithm**.\n",
    "\n",
    "Next, we define the `Adam` optimizer. The inputs to the optimizer are the model parameters and the learning rate. Then, we presented the `.step()` model to automatically update the model parameters. Don't forget to set the gradients to zero before computing the gradients of the next batch."
   ]
  },
  {
   "cell_type": "markdown",
   "metadata": {},
   "source": [
    "### **See also**"
   ]
  },
  {
   "cell_type": "markdown",
   "metadata": {},
   "source": [
    "The `torch.nn` package provides several common loss functions. For a list of supported loss functions, please visit the following link: https://pytorch.org/docs/stable/nn.html.\n",
    "\n",
    "For more information on the `torch.optim` package, please visit the following link: https://pytorch.org/docs/stable/optim.html."
   ]
  },
  {
   "cell_type": "markdown",
   "metadata": {},
   "source": [
    "## **Training and evaluation**"
   ]
  },
  {
   "cell_type": "markdown",
   "metadata": {},
   "source": [
    "Once all the ingredients are ready, we can start training the model."
   ]
  },
  {
   "cell_type": "markdown",
   "metadata": {},
   "source": [
    "### **How to do it**"
   ]
  },
  {
   "cell_type": "markdown",
   "metadata": {},
   "source": [
    "We will develop helper functions for batch and epoch processing and training the model. Let's get started:"
   ]
  },
  {
   "cell_type": "code",
   "execution_count": 63,
   "metadata": {},
   "outputs": [
    {
     "name": "stdout",
     "output_type": "stream",
     "text": [
      "epoch: 0, train loss: 0.045384, val loss: 0.050464, accuracy: 98.43\n",
      "epoch: 1, train loss: 0.026047, val loss: 0.041134, accuracy: 98.78\n",
      "epoch: 2, train loss: 0.018725, val loss: 0.048098, accuracy: 98.65\n",
      "epoch: 3, train loss: 0.012559, val loss: 0.044119, accuracy: 98.97\n",
      "epoch: 4, train loss: 0.011040, val loss: 0.044365, accuracy: 98.93\n"
     ]
    }
   ],
   "source": [
    "# 1 Let's develop a helper function to compute the loss value per mini-batch:\n",
    "def loss_batch(loss_func, xb, yb, yb_h, opt=None):\n",
    "    # obtain loss\n",
    "    loss = loss_func(yb_h, yb)\n",
    "\n",
    "    # obtain performance metric\n",
    "    metric_b = metrics_batch(yb, yb_h)\n",
    "\n",
    "    if opt is not None:\n",
    "        loss.backward()\n",
    "        opt.step()\n",
    "        opt.zero_grad()\n",
    "    return loss.item(), metric_b\n",
    "\n",
    "# 2 Next, we will define a helper function to compute the loss\n",
    "# and metric values for a dataset\n",
    "def metrics_batch(target, output):\n",
    "    # obtain output class\n",
    "    pred = output.argmax(dim=1, keepdim=True)\n",
    "\n",
    "    # compare output class with target class\n",
    "    corrects = pred.eq(target.view_as(pred)).sum().item()\n",
    "    return corrects\n",
    "\n",
    "# 3 Next, we will define a helper function to compute the loss\n",
    "# and metric values for a dataset\n",
    "def loss_epoch(model, loss_func, dataset_dl, opt=None):\n",
    "    loss = 0.0\n",
    "    metric = 0.0\n",
    "    len_data = len(dataset_dl.dataset)\n",
    "    for xb, yb in dataset_dl:\n",
    "        xb = xb.type(torch.float).to(device)\n",
    "        yb = yb.to(device)\n",
    "\n",
    "        # obtain model output\n",
    "        yb_h = model(xb)\n",
    "\n",
    "        loss_b, metric_b = loss_batch(loss_func, xb, yb, yb_h, opt)\n",
    "        loss+=loss_b\n",
    "        if metric_b is not None:\n",
    "            metric+=metric_b\n",
    "    loss /= len_data\n",
    "    metric /= len_data\n",
    "    return loss, metric\n",
    "\n",
    "# 4 Finally, we will define the train_val function\n",
    "def train_val(epochs, model, loss_func, opt, train_dl, val_dl):\n",
    "    for epoch in range(epochs):\n",
    "        model.train()\n",
    "        train_loss, train_metric=loss_epoch(model,loss_func,train_dl,opt)\n",
    "        model.eval()\n",
    "        with torch.no_grad():\n",
    "            val_loss, val_metric=loss_epoch(model,loss_func,val_dl)\n",
    "\n",
    "        accuracy = 100*val_metric\n",
    "\n",
    "        print(\"epoch: %d, train loss: %.6f, val loss: %.6f, accuracy: %.2f\" %(epoch, train_loss, val_loss, accuracy))\n",
    "\n",
    "# 5 Let's train the model for a few epochs:\n",
    "# call train_val function\n",
    "num_epochs=5\n",
    "train_val(num_epochs, model, loss_func, opt, train_dl, val_dl)"
   ]
  },
  {
   "cell_type": "markdown",
   "metadata": {},
   "source": [
    "## **Storing and loading models**"
   ]
  },
  {
   "cell_type": "markdown",
   "metadata": {},
   "source": [
    "Once training is complete, we'll want to store the trained parameters in a file for deployment and future use. There are two ways of doing so.\n",
    "\n",
    "* **Let's look at the first method:**"
   ]
  },
  {
   "cell_type": "code",
   "execution_count": 64,
   "metadata": {},
   "outputs": [
    {
     "data": {
      "text/plain": [
       "<All keys matched successfully>"
      ]
     },
     "execution_count": 64,
     "metadata": {},
     "output_type": "execute_result"
    }
   ],
   "source": [
    "# 1 First, we will store the model parameter or state_dict in a file\n",
    "# define path2weights\n",
    "path2weights = \"../models/weights.pt\"\n",
    "# store state_dict to file\n",
    "torch.save(model.state_dict(), path2weights)\n",
    "\n",
    "# 2 To load the model parameters from the file, we will define an object of the Net class\n",
    "# define model: weights are randomly initialized\n",
    "_model = Net()\n",
    "\n",
    "# 3 Then, we will load state_dict from the file\n",
    "weights = torch.load(path2weights)\n",
    "\n",
    "# Next, we will set state_dict to the model\n",
    "_model.load_state_dict(weights)"
   ]
  },
  {
   "cell_type": "markdown",
   "metadata": {},
   "source": [
    "* **Now, let's look at the second method:**"
   ]
  },
  {
   "cell_type": "code",
   "execution_count": 66,
   "metadata": {},
   "outputs": [],
   "source": [
    "# 1 First, we will store the model in a file:\n",
    "# define a path2model\n",
    "path2model=\"../models/model.pt\"\n",
    "\n",
    "# store model and weights into a file\n",
    "torch.save(model, path2model)\n",
    "\n",
    "# 2 To load the model parameters from the file, we will define an object of the Net class:\n",
    "# define model: weights are randomly initiated\n",
    "_model = Net()\n",
    "# Then, we will load the model from the local file:\n",
    "_model=torch.load(path2model)"
   ]
  },
  {
   "cell_type": "markdown",
   "metadata": {},
   "source": [
    "## **Deploying the model**"
   ]
  },
  {
   "cell_type": "markdown",
   "metadata": {},
   "source": [
    "To deploy a model, we need to load the model using the methods described in the previous section. Once the model has been loaded into memory, we can pass new data to the model. Let's get started:"
   ]
  },
  {
   "cell_type": "code",
   "execution_count": 67,
   "metadata": {},
   "outputs": [
    {
     "name": "stdout",
     "output_type": "stream",
     "text": [
      "torch.Size([1, 28, 28])\n"
     ]
    },
    {
     "data": {
      "text/plain": [
       "torch.Size([1, 28, 28])"
      ]
     },
     "execution_count": 67,
     "metadata": {},
     "output_type": "execute_result"
    },
    {
     "data": {
      "image/png": "[encoded data removed]",
      "text/plain": [
       "<Figure size 640x480 with 1 Axes>"
      ]
     },
     "metadata": {},
     "output_type": "display_data"
    }
   ],
   "source": [
    "# 1 To deploy the model on a sample image from the validation dataset, we will get a sample tensor\n",
    "n=100\n",
    "x= X_val[n]\n",
    "y=y_val[n]\n",
    "print(x.shape)\n",
    "plt.imshow(x.numpy()[0], cmap=\"gray\")\n",
    "\n",
    "torch.Size([1, 28, 28])"
   ]
  },
  {
   "cell_type": "code",
   "execution_count": 68,
   "metadata": {},
   "outputs": [
    {
     "name": "stdout",
     "output_type": "stream",
     "text": [
      "6 6\n"
     ]
    }
   ],
   "source": [
    "# 2 Then, we will preprocess the tensor:\n",
    "# we use unsqueeze to expand dimensions to 1*C*H*W\n",
    "x= x.unsqueeze(0)\n",
    "\n",
    "# convert to torch.float32\n",
    "x=x.type(torch.float)\n",
    "\n",
    "# move to cuda device\n",
    "x=x.to(device)\n",
    "\n",
    "# 3 Next, we will get the model prediction:\n",
    "# get model output\n",
    "output=_model(x)\n",
    "\n",
    "# get predicted class\n",
    "pred = output.argmax(dim=1, keepdim=True)\n",
    "print (pred.item(),y.item())"
   ]
  },
  {
   "cell_type": "markdown",
   "metadata": {},
   "source": [
    "### **How it works**"
   ]
  },
  {
   "cell_type": "markdown",
   "metadata": {},
   "source": [
    "First, we developed a helper function to compute the **loss and metric value per mini-batch**. The `opt` argument of the function **refers to the optimizer**. **If given, the gradients are computed and the model parameters are updated per mini-batch**.\n",
    "\n",
    "Next, we developed a helper function to compute a **performance metric**. The performance metric can be defined depending on the task. Here, we chose the accuracy metric for our classification task. We used `output.argmax` to get **the predicted class with the highest probability**.\n",
    "\n",
    "Next, we defined a helper function to compute the loss and metric values for an entire dataset. We used the data loader object to get mini-batches, feed them to the model, and compute the loss and metrics per mini-batch. We used two running variables to add loss and metric values.\n",
    "\n",
    "Next, we defined a helper function to train the model for multiple epochs. In each epoch, we also evaluated the model's performance using the validation dataset. Note that we set the model in training and evaluation modes using `model.train()` and `model.eval()`, respectively. Moreover, we used `torch.no_grad()` to stop `autograd` from calculating the gradients during evaluation.\n",
    "\n",
    "Next, we explored two methods of storing the trained model. In the first method, we stored `state_dict` or model parameters only. Whenever we need the trained model for deployment, we have to create an object of the model, then load the parameters from the file, and then set the parameters to the model. This is the recommended method by PyTorch creators.\n",
    "\n",
    "In the second method, we stored the model into a file. In other words, we stored both the model and `state_dict` into one file. Whenever we need the trained model for deployment, we need to create an object of the `Net` class. Then, we loaded the model from the file. So, there is no actual benefit of doing this compared to the previous method.\n",
    "\n",
    "Next, we deployed the model on a sample image of the validation dataset. The sample image shape is `C x H x W`. Thus. we added a new dimension to become `1 x C x H xW`. Then, we converted the tensor type into `torch.float32` and moved it to a CUDA device."
   ]
  },
  {
   "cell_type": "markdown",
   "metadata": {},
   "source": [
    "> Make sure that the model and data are hosted on the same device at deployment, otherwise, you will encounter an error."
   ]
  },
  {
   "cell_type": "markdown",
   "metadata": {},
   "source": [
    "### **There's more**"
   ]
  },
  {
   "cell_type": "markdown",
   "metadata": {},
   "source": [
    "Training deep learning models requires developing intuitions. We will introduce other techniques such as early stopping and learning rate schedules to avoid overfitting and improve performance in the next chapter."
   ]
  }
 ],
 "metadata": {
  "kernelspec": {
   "display_name": "Python 3.10.6 ('pytorch')",
   "language": "python",
   "name": "python3"
  },
  "language_info": {
   "codemirror_mode": {
    "name": "ipython",
    "version": 3
   },
   "file_extension": ".py",
   "mimetype": "text/x-python",
   "name": "python",
   "nbconvert_exporter": "python",
   "pygments_lexer": "ipython3",
   "version": "3.10.6"
  },
  "orig_nbformat": 4,
  "vscode": {
   "interpreter": {
    "hash": "580318c0c86e0542a7f2f9882bbbc393e6c88c07c2a75daeff3d2ea36de686a2"
   }
  }
 },
 "nbformat": 4,
 "nbformat_minor": 2
}
